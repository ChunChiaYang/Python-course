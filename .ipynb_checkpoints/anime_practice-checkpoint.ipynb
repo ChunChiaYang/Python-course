{
 "cells": [
  {
   "cell_type": "code",
   "execution_count": null,
   "metadata": {},
   "outputs": [],
   "source": [
    "import numpy as np\n",
    "import matplotlib.pyplot as plt\n",
    "from matplotlib.animation import FuncAnimation\n",
    "\n",
    "fig = plt.figure()\n",
    "ax = plt.axes(xlim=(-6,6),ylim=(0,40))\n",
    "x, y = [], []\n",
    "line, = plt.plot([], [],'ro',markersize=3)\n",
    "\n",
    "\n",
    "def init():\n",
    "    line.set_data([], [])\n",
    "    return line,\n",
    "\n",
    "def update(frame):\n",
    "    x = np.linspace(-5,-5+0.4*frame,num=frame+1)\n",
    "    y= 2**(-x)+2\n",
    "    line.set_data(x, y)\n",
    "    return line,\n",
    "\n",
    "ani = FuncAnimation(fig, update, frames=25,\n",
    "                    init_func=init,interval=200)\n",
    "\n",
    "#Set anime format\n",
    "ax.set_aspect(1./ax.get_data_ratio())\n",
    "plt.grid()\n",
    "plt.title('y=2^(-x)+2')\n",
    "plt.ylabel('y',rotation=0)\n",
    "plt.xlabel('x')\n",
    "from IPython.display import HTML\n",
    "HTML(ani.to_jshtml())"
   ]
  }
 ],
 "metadata": {
  "kernelspec": {
   "display_name": "Python 3",
   "language": "python",
   "name": "python3"
  },
  "language_info": {
   "codemirror_mode": {
    "name": "ipython",
    "version": 3
   },
   "file_extension": ".py",
   "mimetype": "text/x-python",
   "name": "python",
   "nbconvert_exporter": "python",
   "pygments_lexer": "ipython3",
   "version": "3.6.5"
  }
 },
 "nbformat": 4,
 "nbformat_minor": 2
}
